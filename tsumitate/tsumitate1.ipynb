{
 "cells": [
  {
   "cell_type": "code",
   "execution_count": 1,
   "id": "6f29f8e1-b621-49ef-be72-d94942790368",
   "metadata": {},
   "outputs": [],
   "source": [
    "import pandas as pd\n",
    "import matplotlib.pyplot as plt"
   ]
  },
  {
   "cell_type": "code",
   "execution_count": 2,
   "id": "3e30c57e-402f-450d-8c97-3308d9098a02",
   "metadata": {},
   "outputs": [],
   "source": [
    "df = pd.read_csv('./data/^SPX.csv')"
   ]
  },
  {
   "cell_type": "code",
   "execution_count": 3,
   "id": "833ee296-d466-4358-b8a6-a72931347452",
   "metadata": {},
   "outputs": [],
   "source": [
    "# 月末データのみ抽出\n",
    "df['Date'] = pd.to_datetime(df['Date'])\n",
    "df['Month'] = df['Date'].dt.to_period('M')\n",
    "monthly_df = df.groupby('Month').last().reset_index()"
   ]
  },
  {
   "cell_type": "code",
   "execution_count": 4,
   "id": "e7edffe6-30b0-4389-b1f3-8d4b855e6ac3",
   "metadata": {},
   "outputs": [
    {
     "data": {
      "text/html": [
       "<div>\n",
       "<style scoped>\n",
       "    .dataframe tbody tr th:only-of-type {\n",
       "        vertical-align: middle;\n",
       "    }\n",
       "\n",
       "    .dataframe tbody tr th {\n",
       "        vertical-align: top;\n",
       "    }\n",
       "\n",
       "    .dataframe thead th {\n",
       "        text-align: right;\n",
       "    }\n",
       "</style>\n",
       "<table border=\"1\" class=\"dataframe\">\n",
       "  <thead>\n",
       "    <tr style=\"text-align: right;\">\n",
       "      <th></th>\n",
       "      <th>Month</th>\n",
       "      <th>Date</th>\n",
       "      <th>Open</th>\n",
       "      <th>High</th>\n",
       "      <th>Low</th>\n",
       "      <th>Close</th>\n",
       "      <th>Adj Close</th>\n",
       "      <th>Volume</th>\n",
       "    </tr>\n",
       "  </thead>\n",
       "  <tbody>\n",
       "    <tr>\n",
       "      <th>1149</th>\n",
       "      <td>2023-09</td>\n",
       "      <td>2023-09-29</td>\n",
       "      <td>4328.180176</td>\n",
       "      <td>4333.149902</td>\n",
       "      <td>4274.859863</td>\n",
       "      <td>4288.049805</td>\n",
       "      <td>4288.049805</td>\n",
       "      <td>3865960000</td>\n",
       "    </tr>\n",
       "    <tr>\n",
       "      <th>1150</th>\n",
       "      <td>2023-10</td>\n",
       "      <td>2023-10-31</td>\n",
       "      <td>4171.330078</td>\n",
       "      <td>4195.549805</td>\n",
       "      <td>4153.120117</td>\n",
       "      <td>4193.799805</td>\n",
       "      <td>4193.799805</td>\n",
       "      <td>4249470000</td>\n",
       "    </tr>\n",
       "    <tr>\n",
       "      <th>1151</th>\n",
       "      <td>2023-11</td>\n",
       "      <td>2023-11-30</td>\n",
       "      <td>4554.870117</td>\n",
       "      <td>4569.890137</td>\n",
       "      <td>4537.240234</td>\n",
       "      <td>4567.799805</td>\n",
       "      <td>4567.799805</td>\n",
       "      <td>5399300000</td>\n",
       "    </tr>\n",
       "    <tr>\n",
       "      <th>1152</th>\n",
       "      <td>2023-12</td>\n",
       "      <td>2023-12-29</td>\n",
       "      <td>4782.879883</td>\n",
       "      <td>4788.430176</td>\n",
       "      <td>4751.990234</td>\n",
       "      <td>4769.830078</td>\n",
       "      <td>4769.830078</td>\n",
       "      <td>3126060000</td>\n",
       "    </tr>\n",
       "    <tr>\n",
       "      <th>1153</th>\n",
       "      <td>2024-01</td>\n",
       "      <td>2024-01-05</td>\n",
       "      <td>4690.569824</td>\n",
       "      <td>4721.490234</td>\n",
       "      <td>4682.109863</td>\n",
       "      <td>4697.240234</td>\n",
       "      <td>4697.240234</td>\n",
       "      <td>3844370000</td>\n",
       "    </tr>\n",
       "  </tbody>\n",
       "</table>\n",
       "</div>"
      ],
      "text/plain": [
       "        Month       Date         Open         High          Low        Close  \\\n",
       "1149  2023-09 2023-09-29  4328.180176  4333.149902  4274.859863  4288.049805   \n",
       "1150  2023-10 2023-10-31  4171.330078  4195.549805  4153.120117  4193.799805   \n",
       "1151  2023-11 2023-11-30  4554.870117  4569.890137  4537.240234  4567.799805   \n",
       "1152  2023-12 2023-12-29  4782.879883  4788.430176  4751.990234  4769.830078   \n",
       "1153  2024-01 2024-01-05  4690.569824  4721.490234  4682.109863  4697.240234   \n",
       "\n",
       "        Adj Close      Volume  \n",
       "1149  4288.049805  3865960000  \n",
       "1150  4193.799805  4249470000  \n",
       "1151  4567.799805  5399300000  \n",
       "1152  4769.830078  3126060000  \n",
       "1153  4697.240234  3844370000  "
      ]
     },
     "execution_count": 4,
     "metadata": {},
     "output_type": "execute_result"
    }
   ],
   "source": [
    "monthly_df.tail()"
   ]
  },
  {
   "cell_type": "code",
   "execution_count": 5,
   "id": "363524c5-fee6-4972-971a-48db13bbce41",
   "metadata": {},
   "outputs": [
    {
     "data": {
      "image/png": "[encoded data removed]",
      "text/plain": [
       "<Figure size 640x480 with 1 Axes>"
      ]
     },
     "metadata": {},
     "output_type": "display_data"
    }
   ],
   "source": [
    "x = monthly_df['Date']\n",
    "y = monthly_df['Close']\n",
    "\n",
    "fig = plt.figure()\n",
    "ax = fig.add_subplot(111, xlabel=\"\", ylabel=\"\")\n",
    "ax.plot(x, y)\n",
    "fig.savefig(\"sp500.png\")"
   ]
  },
  {
   "cell_type": "code",
   "execution_count": 6,
   "id": "382d9ba2-73cd-4f3a-a313-591fc4f142fa",
   "metadata": {},
   "outputs": [],
   "source": [
    "data = monthly_df[(monthly_df['Date']>='2000-01-01') & (monthly_df['Date']<'2024-01-01')]"
   ]
  },
  {
   "cell_type": "code",
   "execution_count": 7,
   "id": "49e62b88-0cc2-4f58-9f01-afa16bd390f7",
   "metadata": {},
   "outputs": [
    {
     "data": {
      "text/html": [
       "<div>\n",
       "<style scoped>\n",
       "    .dataframe tbody tr th:only-of-type {\n",
       "        vertical-align: middle;\n",
       "    }\n",
       "\n",
       "    .dataframe tbody tr th {\n",
       "        vertical-align: top;\n",
       "    }\n",
       "\n",
       "    .dataframe thead th {\n",
       "        text-align: right;\n",
       "    }\n",
       "</style>\n",
       "<table border=\"1\" class=\"dataframe\">\n",
       "  <thead>\n",
       "    <tr style=\"text-align: right;\">\n",
       "      <th></th>\n",
       "      <th>Month</th>\n",
       "      <th>Date</th>\n",
       "      <th>Open</th>\n",
       "      <th>High</th>\n",
       "      <th>Low</th>\n",
       "      <th>Close</th>\n",
       "      <th>Adj Close</th>\n",
       "      <th>Volume</th>\n",
       "    </tr>\n",
       "  </thead>\n",
       "  <tbody>\n",
       "    <tr>\n",
       "      <th>865</th>\n",
       "      <td>2000-01</td>\n",
       "      <td>2000-01-31</td>\n",
       "      <td>1360.160034</td>\n",
       "      <td>1394.479980</td>\n",
       "      <td>1350.140015</td>\n",
       "      <td>1394.459961</td>\n",
       "      <td>1394.459961</td>\n",
       "      <td>993800000</td>\n",
       "    </tr>\n",
       "    <tr>\n",
       "      <th>866</th>\n",
       "      <td>2000-02</td>\n",
       "      <td>2000-02-29</td>\n",
       "      <td>1348.050049</td>\n",
       "      <td>1369.630005</td>\n",
       "      <td>1348.050049</td>\n",
       "      <td>1366.420044</td>\n",
       "      <td>1366.420044</td>\n",
       "      <td>1204300000</td>\n",
       "    </tr>\n",
       "    <tr>\n",
       "      <th>867</th>\n",
       "      <td>2000-03</td>\n",
       "      <td>2000-03-31</td>\n",
       "      <td>1487.920044</td>\n",
       "      <td>1519.810059</td>\n",
       "      <td>1484.380005</td>\n",
       "      <td>1498.579956</td>\n",
       "      <td>1498.579956</td>\n",
       "      <td>1227400000</td>\n",
       "    </tr>\n",
       "    <tr>\n",
       "      <th>868</th>\n",
       "      <td>2000-04</td>\n",
       "      <td>2000-04-28</td>\n",
       "      <td>1464.920044</td>\n",
       "      <td>1473.619995</td>\n",
       "      <td>1448.150024</td>\n",
       "      <td>1452.430054</td>\n",
       "      <td>1452.430054</td>\n",
       "      <td>984600000</td>\n",
       "    </tr>\n",
       "    <tr>\n",
       "      <th>869</th>\n",
       "      <td>2000-05</td>\n",
       "      <td>2000-05-31</td>\n",
       "      <td>1422.439941</td>\n",
       "      <td>1434.489990</td>\n",
       "      <td>1415.500000</td>\n",
       "      <td>1420.599976</td>\n",
       "      <td>1420.599976</td>\n",
       "      <td>960500000</td>\n",
       "    </tr>\n",
       "  </tbody>\n",
       "</table>\n",
       "</div>"
      ],
      "text/plain": [
       "       Month       Date         Open         High          Low        Close  \\\n",
       "865  2000-01 2000-01-31  1360.160034  1394.479980  1350.140015  1394.459961   \n",
       "866  2000-02 2000-02-29  1348.050049  1369.630005  1348.050049  1366.420044   \n",
       "867  2000-03 2000-03-31  1487.920044  1519.810059  1484.380005  1498.579956   \n",
       "868  2000-04 2000-04-28  1464.920044  1473.619995  1448.150024  1452.430054   \n",
       "869  2000-05 2000-05-31  1422.439941  1434.489990  1415.500000  1420.599976   \n",
       "\n",
       "       Adj Close      Volume  \n",
       "865  1394.459961   993800000  \n",
       "866  1366.420044  1204300000  \n",
       "867  1498.579956  1227400000  \n",
       "868  1452.430054   984600000  \n",
       "869  1420.599976   960500000  "
      ]
     },
     "execution_count": 7,
     "metadata": {},
     "output_type": "execute_result"
    }
   ],
   "source": [
    "data.head()"
   ]
  },
  {
   "cell_type": "code",
   "execution_count": 8,
   "id": "9805378c-622d-4c7e-8e94-3044f502c84f",
   "metadata": {},
   "outputs": [
    {
     "name": "stderr",
     "output_type": "stream",
     "text": [
      "/tmp/ipykernel_201/1004822605.py:2: SettingWithCopyWarning: \n",
      "A value is trying to be set on a copy of a slice from a DataFrame.\n",
      "Try using .loc[row_indexer,col_indexer] = value instead\n",
      "\n",
      "See the caveats in the documentation: https://pandas.pydata.org/pandas-docs/stable/user_guide/indexing.html#returning-a-view-versus-a-copy\n",
      "  data.loc[:,'Quantity']=buy_amount / data['Close']\n"
     ]
    }
   ],
   "source": [
    "buy_amount = 100\n",
    "data.loc[:,'Quantity']=buy_amount / data['Close']"
   ]
  },
  {
   "cell_type": "code",
   "execution_count": 9,
   "id": "fb667c88-07c0-4222-833b-06d3f61b8874",
   "metadata": {},
   "outputs": [
    {
     "data": {
      "text/html": [
       "<div>\n",
       "<style scoped>\n",
       "    .dataframe tbody tr th:only-of-type {\n",
       "        vertical-align: middle;\n",
       "    }\n",
       "\n",
       "    .dataframe tbody tr th {\n",
       "        vertical-align: top;\n",
       "    }\n",
       "\n",
       "    .dataframe thead th {\n",
       "        text-align: right;\n",
       "    }\n",
       "</style>\n",
       "<table border=\"1\" class=\"dataframe\">\n",
       "  <thead>\n",
       "    <tr style=\"text-align: right;\">\n",
       "      <th></th>\n",
       "      <th>Month</th>\n",
       "      <th>Date</th>\n",
       "      <th>Open</th>\n",
       "      <th>High</th>\n",
       "      <th>Low</th>\n",
       "      <th>Close</th>\n",
       "      <th>Adj Close</th>\n",
       "      <th>Volume</th>\n",
       "      <th>Quantity</th>\n",
       "    </tr>\n",
       "  </thead>\n",
       "  <tbody>\n",
       "    <tr>\n",
       "      <th>865</th>\n",
       "      <td>2000-01</td>\n",
       "      <td>2000-01-31</td>\n",
       "      <td>1360.160034</td>\n",
       "      <td>1394.479980</td>\n",
       "      <td>1350.140015</td>\n",
       "      <td>1394.459961</td>\n",
       "      <td>1394.459961</td>\n",
       "      <td>993800000</td>\n",
       "      <td>0.071712</td>\n",
       "    </tr>\n",
       "    <tr>\n",
       "      <th>866</th>\n",
       "      <td>2000-02</td>\n",
       "      <td>2000-02-29</td>\n",
       "      <td>1348.050049</td>\n",
       "      <td>1369.630005</td>\n",
       "      <td>1348.050049</td>\n",
       "      <td>1366.420044</td>\n",
       "      <td>1366.420044</td>\n",
       "      <td>1204300000</td>\n",
       "      <td>0.073184</td>\n",
       "    </tr>\n",
       "    <tr>\n",
       "      <th>867</th>\n",
       "      <td>2000-03</td>\n",
       "      <td>2000-03-31</td>\n",
       "      <td>1487.920044</td>\n",
       "      <td>1519.810059</td>\n",
       "      <td>1484.380005</td>\n",
       "      <td>1498.579956</td>\n",
       "      <td>1498.579956</td>\n",
       "      <td>1227400000</td>\n",
       "      <td>0.066730</td>\n",
       "    </tr>\n",
       "    <tr>\n",
       "      <th>868</th>\n",
       "      <td>2000-04</td>\n",
       "      <td>2000-04-28</td>\n",
       "      <td>1464.920044</td>\n",
       "      <td>1473.619995</td>\n",
       "      <td>1448.150024</td>\n",
       "      <td>1452.430054</td>\n",
       "      <td>1452.430054</td>\n",
       "      <td>984600000</td>\n",
       "      <td>0.068850</td>\n",
       "    </tr>\n",
       "    <tr>\n",
       "      <th>869</th>\n",
       "      <td>2000-05</td>\n",
       "      <td>2000-05-31</td>\n",
       "      <td>1422.439941</td>\n",
       "      <td>1434.489990</td>\n",
       "      <td>1415.500000</td>\n",
       "      <td>1420.599976</td>\n",
       "      <td>1420.599976</td>\n",
       "      <td>960500000</td>\n",
       "      <td>0.070393</td>\n",
       "    </tr>\n",
       "  </tbody>\n",
       "</table>\n",
       "</div>"
      ],
      "text/plain": [
       "       Month       Date         Open         High          Low        Close  \\\n",
       "865  2000-01 2000-01-31  1360.160034  1394.479980  1350.140015  1394.459961   \n",
       "866  2000-02 2000-02-29  1348.050049  1369.630005  1348.050049  1366.420044   \n",
       "867  2000-03 2000-03-31  1487.920044  1519.810059  1484.380005  1498.579956   \n",
       "868  2000-04 2000-04-28  1464.920044  1473.619995  1448.150024  1452.430054   \n",
       "869  2000-05 2000-05-31  1422.439941  1434.489990  1415.500000  1420.599976   \n",
       "\n",
       "       Adj Close      Volume  Quantity  \n",
       "865  1394.459961   993800000  0.071712  \n",
       "866  1366.420044  1204300000  0.073184  \n",
       "867  1498.579956  1227400000  0.066730  \n",
       "868  1452.430054   984600000  0.068850  \n",
       "869  1420.599976   960500000  0.070393  "
      ]
     },
     "execution_count": 9,
     "metadata": {},
     "output_type": "execute_result"
    }
   ],
   "source": [
    "data.head()"
   ]
  },
  {
   "cell_type": "code",
   "execution_count": 10,
   "id": "8fb3b4e1-1a8c-49c3-84f8-51e7d174219d",
   "metadata": {},
   "outputs": [
    {
     "data": {
      "text/html": [
       "<div>\n",
       "<style scoped>\n",
       "    .dataframe tbody tr th:only-of-type {\n",
       "        vertical-align: middle;\n",
       "    }\n",
       "\n",
       "    .dataframe tbody tr th {\n",
       "        vertical-align: top;\n",
       "    }\n",
       "\n",
       "    .dataframe thead th {\n",
       "        text-align: right;\n",
       "    }\n",
       "</style>\n",
       "<table border=\"1\" class=\"dataframe\">\n",
       "  <thead>\n",
       "    <tr style=\"text-align: right;\">\n",
       "      <th></th>\n",
       "      <th>Month</th>\n",
       "      <th>Date</th>\n",
       "      <th>Open</th>\n",
       "      <th>High</th>\n",
       "      <th>Low</th>\n",
       "      <th>Close</th>\n",
       "      <th>Adj Close</th>\n",
       "      <th>Volume</th>\n",
       "      <th>Quantity</th>\n",
       "    </tr>\n",
       "  </thead>\n",
       "  <tbody>\n",
       "    <tr>\n",
       "      <th>1148</th>\n",
       "      <td>2023-08</td>\n",
       "      <td>2023-08-31</td>\n",
       "      <td>4517.009766</td>\n",
       "      <td>4532.259766</td>\n",
       "      <td>4507.390137</td>\n",
       "      <td>4507.660156</td>\n",
       "      <td>4507.660156</td>\n",
       "      <td>3946360000</td>\n",
       "      <td>0.022184</td>\n",
       "    </tr>\n",
       "    <tr>\n",
       "      <th>1149</th>\n",
       "      <td>2023-09</td>\n",
       "      <td>2023-09-29</td>\n",
       "      <td>4328.180176</td>\n",
       "      <td>4333.149902</td>\n",
       "      <td>4274.859863</td>\n",
       "      <td>4288.049805</td>\n",
       "      <td>4288.049805</td>\n",
       "      <td>3865960000</td>\n",
       "      <td>0.023321</td>\n",
       "    </tr>\n",
       "    <tr>\n",
       "      <th>1150</th>\n",
       "      <td>2023-10</td>\n",
       "      <td>2023-10-31</td>\n",
       "      <td>4171.330078</td>\n",
       "      <td>4195.549805</td>\n",
       "      <td>4153.120117</td>\n",
       "      <td>4193.799805</td>\n",
       "      <td>4193.799805</td>\n",
       "      <td>4249470000</td>\n",
       "      <td>0.023845</td>\n",
       "    </tr>\n",
       "    <tr>\n",
       "      <th>1151</th>\n",
       "      <td>2023-11</td>\n",
       "      <td>2023-11-30</td>\n",
       "      <td>4554.870117</td>\n",
       "      <td>4569.890137</td>\n",
       "      <td>4537.240234</td>\n",
       "      <td>4567.799805</td>\n",
       "      <td>4567.799805</td>\n",
       "      <td>5399300000</td>\n",
       "      <td>0.021892</td>\n",
       "    </tr>\n",
       "    <tr>\n",
       "      <th>1152</th>\n",
       "      <td>2023-12</td>\n",
       "      <td>2023-12-29</td>\n",
       "      <td>4782.879883</td>\n",
       "      <td>4788.430176</td>\n",
       "      <td>4751.990234</td>\n",
       "      <td>4769.830078</td>\n",
       "      <td>4769.830078</td>\n",
       "      <td>3126060000</td>\n",
       "      <td>0.020965</td>\n",
       "    </tr>\n",
       "  </tbody>\n",
       "</table>\n",
       "</div>"
      ],
      "text/plain": [
       "        Month       Date         Open         High          Low        Close  \\\n",
       "1148  2023-08 2023-08-31  4517.009766  4532.259766  4507.390137  4507.660156   \n",
       "1149  2023-09 2023-09-29  4328.180176  4333.149902  4274.859863  4288.049805   \n",
       "1150  2023-10 2023-10-31  4171.330078  4195.549805  4153.120117  4193.799805   \n",
       "1151  2023-11 2023-11-30  4554.870117  4569.890137  4537.240234  4567.799805   \n",
       "1152  2023-12 2023-12-29  4782.879883  4788.430176  4751.990234  4769.830078   \n",
       "\n",
       "        Adj Close      Volume  Quantity  \n",
       "1148  4507.660156  3946360000  0.022184  \n",
       "1149  4288.049805  3865960000  0.023321  \n",
       "1150  4193.799805  4249470000  0.023845  \n",
       "1151  4567.799805  5399300000  0.021892  \n",
       "1152  4769.830078  3126060000  0.020965  "
      ]
     },
     "execution_count": 10,
     "metadata": {},
     "output_type": "execute_result"
    }
   ],
   "source": [
    "data.tail()"
   ]
  },
  {
   "cell_type": "code",
   "execution_count": 11,
   "id": "2b8f5b58-0d12-4f8d-bb58-1546064cc5b4",
   "metadata": {},
   "outputs": [
    {
     "name": "stderr",
     "output_type": "stream",
     "text": [
      "/tmp/ipykernel_201/3471908975.py:1: SettingWithCopyWarning: \n",
      "A value is trying to be set on a copy of a slice from a DataFrame.\n",
      "Try using .loc[row_indexer,col_indexer] = value instead\n",
      "\n",
      "See the caveats in the documentation: https://pandas.pydata.org/pandas-docs/stable/user_guide/indexing.html#returning-a-view-versus-a-copy\n",
      "  data.loc[:,'TotalQt']=data['Quantity'].cumsum()\n"
     ]
    }
   ],
   "source": [
    "data.loc[:,'TotalQt']=data['Quantity'].cumsum()"
   ]
  },
  {
   "cell_type": "code",
   "execution_count": 12,
   "id": "aadd702e-827c-4da5-bae3-cafc95ec667c",
   "metadata": {},
   "outputs": [
    {
     "name": "stderr",
     "output_type": "stream",
     "text": [
      "/tmp/ipykernel_201/3363117449.py:1: SettingWithCopyWarning: \n",
      "A value is trying to be set on a copy of a slice from a DataFrame.\n",
      "Try using .loc[row_indexer,col_indexer] = value instead\n",
      "\n",
      "See the caveats in the documentation: https://pandas.pydata.org/pandas-docs/stable/user_guide/indexing.html#returning-a-view-versus-a-copy\n",
      "  data.loc[:,'TotalAm']=data['Close']*data['TotalQt']\n"
     ]
    }
   ],
   "source": [
    "data.loc[:,'TotalAm']=data['Close']*data['TotalQt']"
   ]
  },
  {
   "cell_type": "code",
   "execution_count": 13,
   "id": "041f76bb-1884-4e3a-b013-46d771a3e0ed",
   "metadata": {},
   "outputs": [
    {
     "name": "stderr",
     "output_type": "stream",
     "text": [
      "/tmp/ipykernel_201/1985622261.py:1: SettingWithCopyWarning: \n",
      "A value is trying to be set on a copy of a slice from a DataFrame.\n",
      "Try using .loc[row_indexer,col_indexer] = value instead\n",
      "\n",
      "See the caveats in the documentation: https://pandas.pydata.org/pandas-docs/stable/user_guide/indexing.html#returning-a-view-versus-a-copy\n",
      "  data.loc[:,'BuyAm']=buy_amount\n",
      "/tmp/ipykernel_201/1985622261.py:2: SettingWithCopyWarning: \n",
      "A value is trying to be set on a copy of a slice from a DataFrame.\n",
      "Try using .loc[row_indexer,col_indexer] = value instead\n",
      "\n",
      "See the caveats in the documentation: https://pandas.pydata.org/pandas-docs/stable/user_guide/indexing.html#returning-a-view-versus-a-copy\n",
      "  data.loc[:,'Ganpon']=data['BuyAm'].cumsum()\n"
     ]
    }
   ],
   "source": [
    "data.loc[:,'BuyAm']=buy_amount\n",
    "data.loc[:,'Ganpon']=data['BuyAm'].cumsum()"
   ]
  },
  {
   "cell_type": "code",
   "execution_count": 14,
   "id": "7eee013e-3a63-410e-be48-4c66ebc9cca9",
   "metadata": {},
   "outputs": [
    {
     "name": "stderr",
     "output_type": "stream",
     "text": [
      "No artists with labels found to put in legend.  Note that artists whose label start with an underscore are ignored when legend() is called with no argument.\n"
     ]
    },
    {
     "data": {
      "image/png": "[encoded data removed]",
      "text/plain": [
       "<Figure size 640x480 with 1 Axes>"
      ]
     },
     "metadata": {},
     "output_type": "display_data"
    }
   ],
   "source": [
    "x = data['Date']\n",
    "y1 = data['TotalAm']\n",
    "y2 = data['Ganpon']\n",
    "\n",
    "fig = plt.figure()\n",
    "ax = fig.add_subplot(111, xlabel=\"\", ylabel=\"\")\n",
    "ax.plot(x, y1)\n",
    "ax.plot(x, y2)\n",
    "ax.legend()\n",
    "fig.savefig(\"tsumitate.png\")"
   ]
  },
  {
   "cell_type": "code",
   "execution_count": null,
   "id": "16851c5a-5295-4666-af01-ace6bbf36315",
   "metadata": {},
   "outputs": [],
   "source": []
  }
 ],
 "metadata": {
  "kernelspec": {
   "display_name": "Python 3 (ipykernel)",
   "language": "python",
   "name": "python3"
  },
  "language_info": {
   "codemirror_mode": {
    "name": "ipython",
    "version": 3
   },
   "file_extension": ".py",
   "mimetype": "text/x-python",
   "name": "python",
   "nbconvert_exporter": "python",
   "pygments_lexer": "ipython3",
   "version": "3.8.13"
  }
 },
 "nbformat": 4,
 "nbformat_minor": 5
}
